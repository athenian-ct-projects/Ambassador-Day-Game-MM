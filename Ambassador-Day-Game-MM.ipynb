{
  "nbformat": 4,
  "nbformat_minor": 0,
  "metadata": {
    "colab": {
      "name": "Ambassador Day Game MM.ipynb",
      "provenance": [],
      "collapsed_sections": [],
      "include_colab_link": true
    },
    "kernelspec": {
      "name": "python3",
      "display_name": "Python 3"
    }
  },
  "cells": [
    {
      "cell_type": "markdown",
      "metadata": {
        "id": "view-in-github",
        "colab_type": "text"
      },
      "source": [
        "<a href=\"https://colab.research.google.com/github/athenian-ct-projects/Ambassador-Day-Game-MM/blob/master/Ambassador-Day-Game-MM.ipynb\" target=\"_parent\"><img src=\"https://colab.research.google.com/assets/colab-badge.svg\" alt=\"Open In Colab\"/></a>"
      ]
    },
    {
      "cell_type": "code",
      "metadata": {
        "id": "sGr-61vWEJSQ",
        "colab_type": "code",
        "outputId": "c849ca0f-89e9-4096-b837-6d1a0f2ef4fa",
        "colab": {
          "base_uri": "https://localhost:8080/",
          "height": 272
        }
      },
      "source": [
        "def china():\n",
        "  print(\"Food? Religion? Landmark? \")\n",
        "  b = str(input(\"What do you want to learn about?\"))\n",
        "  if b==(\"Food\"):\n",
        "    print(\"Sichuan food - \")\n",
        "    print(\"Famous for super spicy food, its crazy.\")\n",
        "    print(\"There are resteraunts where you have to sign contracts if their spicy meal results into death, it's not their responsibility\")\n",
        "  if b==(\"Religion\"):\n",
        "    print(\"In China, there aren't that many people who are religious\")\n",
        "    print(\"Only 26.45% of the people are religious\")\n",
        "  if b==(\"Landmarks\"):\n",
        "    print(\"Great wall of China\")\n",
        "    print(\"Did you know that The Great Wall of China's size 21,196 km (13,171 mi) long\")\n",
        "def japan():\n",
        "  print(\"Food? Religion? Landmark? \")\n",
        "  d = str(input(\"What do you want to learn about?\" ))\n",
        "  if d == (\"Food\"):\n",
        "    print(\"Yakiniku-\")\n",
        "    print(\"yakiniku is a japanese food where its like an indoor barbeque and cook your own meat\")\n",
        "    print(\"Yakiniku can vary from local street food to fancy meals\")\n",
        "  if d==(\"Religion\"):\n",
        "    print(\"In Japan 52% aren’t religious and 35% are buddist, 11% are shinto and 10% are Christian.\")\n",
        "  if d==(\"Landmarks\"):\n",
        "    print(\"Tokyo Tower\")\n",
        "    print(\"Tokyo tower is 333m tall\")\n",
        "    print(\"It was used as a tower to get radio satelite but now it is just a decoration\")\n",
        "def singapore():\n",
        "  print(\"Food? Religion? Landmark?\")\n",
        "  e=str(input(\"What do you want to learn about?\"))\n",
        "  if e==(\"Food\"):\n",
        "    print(\"Hainan Chicken rice - \")\n",
        "    print(\"Hainan Chicken is a very famous Singaporian food.\")\n",
        "    print(\"You eat Chicken with rice by dipping it with a thick soy sauce\")\n",
        "  if e==(\"Religion\"):\n",
        "    print(\"Singapore is home to 10 religions, with Buddhism/Taoism, Islam,\")\n",
        "    print(\"Hinduism and Christianity as its principal religions. Sikhism, Judaism, Zoroastrianism,\") \n",
        "    print (\"Baha'I, Jainism and the non-religious form the minority cluster.\")\n",
        "  if e==(\"Landmarks\"):\n",
        "    print(\"The Marina Bay Sands - \")\n",
        "    print(\"It is a hotel with three towers and on top of that tower is a long boat like structure that has the rooftop pool\")\n",
        "def south_korea():\n",
        "    print(\"Food? Religion? Landmarks?\")\n",
        "    f=str(input(\"Choose an option \"))\n",
        "    if f==(\"Food\"):\n",
        "      print(\"Tteokbokki -\")\n",
        "      print(\"Spicy korean street food. Also served with odeng soup.\")\n",
        "    if f==(\"Religion\"):\n",
        "      print(\"43% of the people are buddist 34.5% of the people are protestants and 20% of the people are Roman Catholics.\")\n",
        "    if f==(\"Landmarks\"):\n",
        "      print(\"Bukchon Hanok Village - \")\n",
        "      print(\"is a Korean traditional village in Seoul with a long history\")\n",
        "name=input(\"Hello kiddo, whats your name? \")\n",
        "print(\"okay \"+ name)\n",
        "answer=input(\"Do you want to learn about countries in Asia? \")\n",
        "if answer == (\"yes\"):\n",
        "  print(\"cool beans\")\n",
        "  print(\"Your choices are: \\n 1.China \\n 2.Japan \\n 3.Singapore \\n 4.South Korea\")\n",
        "else:\n",
        "  print(\"Too bad you're going to be learning about it anyways\")\n",
        "  print(\"Your choices are: \\n 1.China \\n 2.Japan \\n 3.Singapore \\n 4.South Korea\")\n",
        "a = str(input(\"Choose one option \")) \n",
        "if a==(\"China\"):\n",
        "    china() \n",
        "\n",
        "  #add countries\n",
        "if a==(\"Japan\"):\n",
        "    japan()\n",
        "if a==(\"Singapore\"):\n",
        "    singapore()\n",
        "if a==(\"South Korea\"):\n",
        "    south_korea()\n",
        " \n",
        "\n",
        "  #add whatever the stuff you need to add\n"
      ],
      "execution_count": 0,
      "outputs": [
        {
          "output_type": "stream",
          "text": [
            "Hello kiddo, whats your name? m\n",
            "okay m\n",
            "Do you want to learn about countries in Asia? yes\n",
            "cool beans\n",
            "Your choices are: \n",
            " 1.China \n",
            " 2.Japan \n",
            " 3.Singapore \n",
            " 4.South Korea\n",
            "Choose one option China\n",
            "Food? Religion? Landmark? \n",
            "What do you want to learn about?Food\n",
            "Sichuan food - \n",
            "Famous for super spicy food, its crazy.\n",
            "There are resteraunts where you have to sign contracts if their spicy meal results into death, it's not their responsibility\n"
          ],
          "name": "stdout"
        }
      ]
    },
    {
      "cell_type": "code",
      "metadata": {
        "colab_type": "code",
        "id": "e0_QpDQlpgRC",
        "colab": {}
      },
      "source": [
        ""
      ],
      "execution_count": 0,
      "outputs": []
    }
  ]
}